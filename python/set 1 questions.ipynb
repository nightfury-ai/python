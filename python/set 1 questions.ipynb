{
 "cells": [
  {
   "cell_type": "markdown",
   "id": "7d3ea429-f5e4-4ac4-8a92-7ca4b2609857",
   "metadata": {},
   "source": [
    "# debugging"
   ]
  },
  {
   "cell_type": "code",
   "execution_count": 3,
   "id": "7965be9f-6e01-47d5-8c73-f3eb3385c06e",
   "metadata": {},
   "outputs": [
    {
     "name": "stdout",
     "output_type": "stream",
     "text": [
      "0\n",
      "1\n",
      "2\n",
      "3\n",
      "4\n"
     ]
    }
   ],
   "source": [
    "#1.Find the error in the following Python code:\n",
    "\n",
    "for i in range(5):\n",
    "    print(i)\n",
    "\n",
    "# indentation error"
   ]
  },
  {
   "cell_type": "code",
   "execution_count": 4,
   "id": "fe1450f2-bce6-49fb-be42-68f85b341642",
   "metadata": {},
   "outputs": [
    {
     "ename": "TypeError",
     "evalue": "unsupported operand type(s) for +: 'int' and 'str'",
     "output_type": "error",
     "traceback": [
      "\u001b[1;31m---------------------------------------------------------------------------\u001b[0m",
      "\u001b[1;31mTypeError\u001b[0m                                 Traceback (most recent call last)",
      "Cell \u001b[1;32mIn[4], line 5\u001b[0m\n\u001b[0;32m      3\u001b[0m a \u001b[38;5;241m=\u001b[39m \u001b[38;5;241m10\u001b[39m\n\u001b[0;32m      4\u001b[0m b \u001b[38;5;241m=\u001b[39m \u001b[38;5;124m\"\u001b[39m\u001b[38;5;124m5\u001b[39m\u001b[38;5;124m\"\u001b[39m\n\u001b[1;32m----> 5\u001b[0m \u001b[38;5;28mprint\u001b[39m(\u001b[43ma\u001b[49m\u001b[43m \u001b[49m\u001b[38;5;241;43m+\u001b[39;49m\u001b[43m \u001b[49m\u001b[43mb\u001b[49m)\n",
      "\u001b[1;31mTypeError\u001b[0m: unsupported operand type(s) for +: 'int' and 'str'"
     ]
    }
   ],
   "source": [
    "#2.What will be the output of this code?\n",
    "\n",
    "a = 10\n",
    "b = \"5\"\n",
    "print(a + b)"
   ]
  },
  {
   "cell_type": "code",
   "execution_count": 7,
   "id": "09310ccc-0038-4b81-b1d4-7f7a7cc57462",
   "metadata": {},
   "outputs": [],
   "source": [
    "#3.What is the issue in this Python snippet?\n",
    "\n",
    "def add_numbers(a, b):\n",
    "    return a + b\n",
    "\n",
    "# syntax error(:)"
   ]
  },
  {
   "cell_type": "code",
   "execution_count": 13,
   "id": "fbd9e087-c044-4fba-98e9-1ca5eb5e2062",
   "metadata": {},
   "outputs": [
    {
     "ename": "IndexError",
     "evalue": "list index out of range",
     "output_type": "error",
     "traceback": [
      "\u001b[1;31m---------------------------------------------------------------------------\u001b[0m",
      "\u001b[1;31mIndexError\u001b[0m                                Traceback (most recent call last)",
      "Cell \u001b[1;32mIn[13], line 4\u001b[0m\n\u001b[0;32m      1\u001b[0m \u001b[38;5;66;03m#4.Identify the bug in the following Python code:\u001b[39;00m\n\u001b[0;32m      3\u001b[0m numbers \u001b[38;5;241m=\u001b[39m [\u001b[38;5;241m1\u001b[39m, \u001b[38;5;241m2\u001b[39m, \u001b[38;5;241m3\u001b[39m, \u001b[38;5;241m4\u001b[39m]\n\u001b[1;32m----> 4\u001b[0m \u001b[38;5;28mprint\u001b[39m(\u001b[43mnumbers\u001b[49m\u001b[43m[\u001b[49m\u001b[38;5;241;43m4\u001b[39;49m\u001b[43m]\u001b[49m)\n",
      "\u001b[1;31mIndexError\u001b[0m: list index out of range"
     ]
    }
   ],
   "source": [
    "#4.Identify the bug in the following Python code:\n",
    "\n",
    "numbers = [1, 2, 3, 4]\n",
    "print(numbers[4])"
   ]
  },
  {
   "cell_type": "code",
   "execution_count": 14,
   "id": "44c917ec-1126-4625-8e28-b6841b86d2e7",
   "metadata": {},
   "outputs": [
    {
     "name": "stdout",
     "output_type": "stream",
     "text": [
      "4\n"
     ]
    }
   ],
   "source": [
    "numbers = [1, 2, 3, 4]\n",
    "print(numbers[3])\n",
    "\n",
    "# the value starts for 0,1,2,3.so 3 is the answer"
   ]
  },
  {
   "cell_type": "code",
   "execution_count": 15,
   "id": "a57dd033-4636-48d2-9266-d89c56f579ae",
   "metadata": {},
   "outputs": [
    {
     "name": "stdout",
     "output_type": "stream",
     "text": [
      "Hello, World!\n"
     ]
    }
   ],
   "source": [
    "#5.Find the error in the following Python code:\n",
    "print (\"Hello, World!\")"
   ]
  },
  {
   "cell_type": "code",
   "execution_count": 16,
   "id": "8ef109b5-b257-4480-a795-8832c067fb35",
   "metadata": {},
   "outputs": [
    {
     "ename": "ZeroDivisionError",
     "evalue": "division by zero",
     "output_type": "error",
     "traceback": [
      "\u001b[1;31m---------------------------------------------------------------------------\u001b[0m",
      "\u001b[1;31mZeroDivisionError\u001b[0m                         Traceback (most recent call last)",
      "Cell \u001b[1;32mIn[16], line 2\u001b[0m\n\u001b[0;32m      1\u001b[0m \u001b[38;5;66;03m#6.Find the error in the following Python code:\u001b[39;00m\n\u001b[1;32m----> 2\u001b[0m x \u001b[38;5;241m=\u001b[39m \u001b[38;5;241;43m5\u001b[39;49m\u001b[43m \u001b[49m\u001b[38;5;241;43m/\u001b[39;49m\u001b[43m \u001b[49m\u001b[38;5;241;43m0\u001b[39;49m\n",
      "\u001b[1;31mZeroDivisionError\u001b[0m: division by zero"
     ]
    }
   ],
   "source": [
    "#6.Find the error in the following Python code:\n",
    "x = 5 / 0\n"
   ]
  },
  {
   "cell_type": "code",
   "execution_count": 18,
   "id": "febb1450-8baf-43e1-ad20-f4e9d610d828",
   "metadata": {},
   "outputs": [
    {
     "name": "stdout",
     "output_type": "stream",
     "text": [
      "2.5\n"
     ]
    }
   ],
   "source": [
    "x=5/2\n",
    "print(x)\n"
   ]
  },
  {
   "cell_type": "code",
   "execution_count": 24,
   "id": "67028e24-8263-40c3-ab9f-0777d0f63e43",
   "metadata": {},
   "outputs": [
    {
     "name": "stdin",
     "output_type": "stream",
     "text": [
      "enter the user name: alice\n"
     ]
    },
    {
     "ename": "TypeError",
     "evalue": "can only concatenate str (not \"int\") to str",
     "output_type": "error",
     "traceback": [
      "\u001b[1;31m---------------------------------------------------------------------------\u001b[0m",
      "\u001b[1;31mTypeError\u001b[0m                                 Traceback (most recent call last)",
      "Cell \u001b[1;32mIn[24], line 3\u001b[0m\n\u001b[0;32m      1\u001b[0m age\u001b[38;5;241m=\u001b[39m\u001b[38;5;241m25\u001b[39m\n\u001b[0;32m      2\u001b[0m name\u001b[38;5;241m=\u001b[39m\u001b[38;5;28minput\u001b[39m(\u001b[38;5;124m\"\u001b[39m\u001b[38;5;124menter the user name:\u001b[39m\u001b[38;5;124m\"\u001b[39m)\n\u001b[1;32m----> 3\u001b[0m \u001b[38;5;28mprint\u001b[39m(\u001b[38;5;124;43m\"\u001b[39;49m\u001b[38;5;124;43malice: \u001b[39;49m\u001b[38;5;124;43m\"\u001b[39;49m\u001b[43m \u001b[49m\u001b[38;5;241;43m+\u001b[39;49m\u001b[43m \u001b[49m\u001b[43mname\u001b[49m\u001b[43m \u001b[49m\u001b[38;5;241;43m+\u001b[39;49m\u001b[43m \u001b[49m\u001b[38;5;124;43m\"\u001b[39;49m\u001b[38;5;124;43mage:\u001b[39;49m\u001b[38;5;124;43m\"\u001b[39;49m\u001b[43m \u001b[49m\u001b[38;5;241;43m+\u001b[39;49m\u001b[43m \u001b[49m\u001b[38;5;241;43m25\u001b[39;49m)\n",
      "\u001b[1;31mTypeError\u001b[0m: can only concatenate str (not \"int\") to str"
     ]
    }
   ],
   "source": [
    "#7.Find the error in the following Python code:name = \"Alice\"\n",
    "age=25\n",
    "name=input(\"enter the user name:\")\n",
    "print(\"alice: \" + name + \"age:\" + 25)"
   ]
  },
  {
   "cell_type": "code",
   "execution_count": 26,
   "id": "80117df1-da2c-4e80-bb3c-025028ad6d4b",
   "metadata": {},
   "outputs": [
    {
     "name": "stdin",
     "output_type": "stream",
     "text": [
      "enter the user name: alice\n"
     ]
    },
    {
     "name": "stdout",
     "output_type": "stream",
     "text": [
      "alice: alice age: 25\n"
     ]
    }
   ],
   "source": [
    "age=25\n",
    "name=input(\"enter the user name:\")\n",
    "print(\"alice: \" + name ,\"age:\" ,25)\n",
    "\n",
    "# TypeError: can only concatenate str (not \"int\") to str"
   ]
  },
  {
   "cell_type": "code",
   "execution_count": 35,
   "id": "a68f5951-6ef4-474b-8360-0076e75d17eb",
   "metadata": {},
   "outputs": [],
   "source": [
    "#8.Find the error\n",
    "\n",
    "for i in range(1, 10, -1):\n",
    "    print(i)\n",
    "\n",
    "# -1 wont come bcoz we use 1 to 10 so we should put +1\n",
    "    "
   ]
  },
  {
   "cell_type": "code",
   "execution_count": 31,
   "id": "95e59d5f-09fc-45ce-af88-0ec6e7bbe3c8",
   "metadata": {},
   "outputs": [],
   "source": [
    "#9. Find the error in the following Python code:\n",
    "x = 10\n",
    "if x ==5:\n",
    "    print(\"x is 5\")\n",
    "  # in hear wee need to add==5"
   ]
  },
  {
   "cell_type": "code",
   "execution_count": 36,
   "id": "391a9fcf-c2ac-4b6b-9022-cda760fca70d",
   "metadata": {},
   "outputs": [
    {
     "ename": "SyntaxError",
     "evalue": "expected ':' (4014834639.py, line 3)",
     "output_type": "error",
     "traceback": [
      "\u001b[1;36m  Cell \u001b[1;32mIn[36], line 3\u001b[1;36m\u001b[0m\n\u001b[1;33m    def greet(name)\u001b[0m\n\u001b[1;37m                   ^\u001b[0m\n\u001b[1;31mSyntaxError\u001b[0m\u001b[1;31m:\u001b[0m expected ':'\n"
     ]
    }
   ],
   "source": [
    "#10. Identify the error in the following function definition:\n",
    "\n",
    "def greet(name)\n",
    "    print(\"Hello, \" + name)"
   ]
  },
  {
   "cell_type": "code",
   "execution_count": 38,
   "id": "9561994e-70e2-4e56-bbd6-497eeb0c4121",
   "metadata": {},
   "outputs": [
    {
     "name": "stdout",
     "output_type": "stream",
     "text": [
      "Hello, alice\n"
     ]
    }
   ],
   "source": [
    "\n",
    "def greet(name):\n",
    "\n",
    "    print(\"Hello, \" + name)\n",
    "\n",
    "greet(name)    "
   ]
  },
  {
   "cell_type": "markdown",
   "id": "f5eda303-e420-48e7-b356-38a7dcab3e66",
   "metadata": {},
   "source": [
    "# scenario based problems"
   ]
  },
  {
   "cell_type": "code",
   "execution_count": 1,
   "id": "70aba9f1-cf32-45d8-bd74-879a4ef58c81",
   "metadata": {},
   "outputs": [
    {
     "data": {
      "text/plain": [
       "'\\n1. Voting Eligibility\\nLogic:\\n\\nAsk the user for their age\\n\\nIf age ≥ 18 → print “Eligible to vote”\\n\\nElse → print “Not eligible to vote”\\n\\n'"
      ]
     },
     "execution_count": 1,
     "metadata": {},
     "output_type": "execute_result"
    }
   ],
   "source": [
    "\"\"\"\n",
    "1. Voting Eligibility\n",
    "\n",
    "Ask the user for their age\n",
    "\n",
    "If age ≥ 18 → print “Eligible to vote”\n",
    "\n",
    "Else → print “Not eligible to vote”\n",
    "\n",
    "\"\"\"\n",
    "\n"
   ]
  },
  {
   "cell_type": "code",
   "execution_count": null,
   "id": "baf93945-8aad-4dee-990c-54f670c87b88",
   "metadata": {},
   "outputs": [],
   "source": [
    "\"\"\"\n",
    "2. Find the Largest Number in a List\n",
    "\n",
    "\n",
    "Assume the first number is the largest\n",
    "\n",
    "Go through the list using a loop\n",
    "\n",
    "If you find a bigger number → update the largest\n",
    "\n",
    "After the loop, print the largest number\n",
    "\"\"\"\n",
    "\n"
   ]
  },
  {
   "cell_type": "code",
   "execution_count": null,
   "id": "7e621f58-685b-4ba2-a370-e90094cce05a",
   "metadata": {},
   "outputs": [],
   "source": [
    "3.\n",
    "\n",
    "\n",
    "\"\"\"\n",
    "Salary Bonus (10% if salary > ₹50,000)\n",
    "Logic:\n",
    "\n",
    "Ask the user for their salary\n",
    "\n",
    "If salary > 50,000 → calculate 10% of it as bonus\n",
    "\n",
    "Else → bonus is 0\n",
    "\n",
    "Print the bonus\n",
    "\n",
    "\"\"\""
   ]
  },
  {
   "cell_type": "code",
   "execution_count": null,
   "id": "aa56c108-2e25-4938-a549-496ef35e9af9",
   "metadata": {},
   "outputs": [],
   "source": [
    "4. Even or Odd Check\n",
    "\n",
    "Ask the user to enter a number\n",
    "\n",
    "If number % 2 == 0 → print “Even”\n",
    "\n",
    "Else → print “Odd”\n",
    "\n"
   ]
  },
  {
   "cell_type": "code",
   "execution_count": null,
   "id": "8bad09b2-b5e4-4074-936e-5f0473ca7303",
   "metadata": {},
   "outputs": [],
   "source": [
    "Reverse a Word or Sentence\n",
    "\n",
    "Ask the user to enter a word or sentence\n",
    "\n",
    "Reverse the string using slicing or logic\n",
    "\n",
    "Print the reversed string"
   ]
  },
  {
   "cell_type": "code",
   "execution_count": null,
   "id": "b97f0df5-4f37-41fd-80ec-89f7493fd5a6",
   "metadata": {},
   "outputs": [],
   "source": [
    "6. Pass or Fail Based on Marks\n",
    "\n",
    "Ask the user to enter their marks\n",
    "\n",
    "If marks ≥ 40 → print “Pass”\n",
    "\n",
    "Else → print “Fail”"
   ]
  },
  {
   "cell_type": "code",
   "execution_count": null,
   "id": "1bec3bc4-06c0-4181-8368-65c4ff845593",
   "metadata": {},
   "outputs": [],
   "source": [
    "7. Retail Discount (20% if total > ₹100)\n",
    "\n",
    "Ask the user for total order amount\n",
    "\n",
    "If amount > 100 → apply 20% discount\n",
    "\n",
    "Else → no discount\n",
    "\n",
    "Print the final amount after discount"
   ]
  },
  {
   "cell_type": "code",
   "execution_count": null,
   "id": "260f019e-6f3f-4c06-9598-dbfc8513d3fb",
   "metadata": {},
   "outputs": [],
   "source": [
    "8. Bank Withdrawal with Balance Check\n",
    "\n",
    "Ask the user to enter their account balance and withdrawal amount\n",
    "\n",
    "If balance is greater than or equal to withdrawal amount:\n",
    "\n",
    "Allow the withdrawal\n",
    "\n",
    "Subtract the withdrawal from balance\n",
    "\n",
    "Show the updated balance\n",
    "\n",
    "Else:\n",
    "\n",
    "Print “Insufficient balance”\n",
    "\n"
   ]
  },
  {
   "cell_type": "code",
   "execution_count": null,
   "id": "6599c36d-5dc2-44f2-ab2a-e62efe190840",
   "metadata": {},
   "outputs": [],
   "source": [
    "9. Leap Year Check\n",
    "\n",
    "Ask the user to enter a year\n",
    "\n",
    "Apply standard leap year rules:\n",
    "\n",
    "If the year is divisible by 4 and not divisible by 100, OR divisible by 400 → it’s a leap year\n",
    "\n",
    "Else → not a leap year\n",
    "\n"
   ]
  },
  {
   "cell_type": "code",
   "execution_count": null,
   "id": "125f2a64-6a4d-4470-867f-f892c86fe76a",
   "metadata": {},
   "outputs": [],
   "source": [
    "10. Filter Even Numbers from List\n",
    "\n",
    "Take a list of numbers\n",
    "\n",
    "Go through each number one by one using a loop\n",
    "\n",
    "If the number is divisible by 2 (num % 2 == 0)\n",
    "\n",
    "Add it to a new list of even numbers\n",
    "\n",
    "Finally, print the list of even numbers\n",
    "\n"
   ]
  },
  {
   "cell_type": "markdown",
   "id": "44dca5f2-2bb8-468e-a59e-327a7cbb5f20",
   "metadata": {},
   "source": [
    "# coding "
   ]
  },
  {
   "cell_type": "code",
   "execution_count": null,
   "id": "d8bd8390-14ec-494e-980b-ff626d952bfb",
   "metadata": {},
   "outputs": [],
   "source": [
    "1.Write a Python program that prints numbers from 1 to 5.\n",
    "Expected Output:\n",
    "1 2 3 4 5\n",
    "\n"
   ]
  },
  {
   "cell_type": "code",
   "execution_count": 2,
   "id": "52461f97-b77a-4c74-9ac9-6c195317ea10",
   "metadata": {},
   "outputs": [
    {
     "name": "stdout",
     "output_type": "stream",
     "text": [
      "1\n",
      "2\n",
      "3\n",
      "4\n",
      "5\n"
     ]
    }
   ],
   "source": [
    "for i in range(1, 6):\n",
    "    print(i)\n"
   ]
  },
  {
   "cell_type": "code",
   "execution_count": null,
   "id": "a6b2372c-ff0b-43f4-935e-998c75c0c72e",
   "metadata": {},
   "outputs": [],
   "source": [
    "2.Write a Python program to print the first 5 even numbers. Expected Output:\n",
    "2 4 6 8 10"
   ]
  },
  {
   "cell_type": "code",
   "execution_count": 3,
   "id": "29e4659c-48de-4b05-84c6-eb8d23cdd1fc",
   "metadata": {},
   "outputs": [
    {
     "name": "stdout",
     "output_type": "stream",
     "text": [
      "2\n",
      "4\n",
      "6\n",
      "8\n",
      "10\n"
     ]
    }
   ],
   "source": [
    "for i in range(2, 11, 2):\n",
    "    print(i)\n"
   ]
  },
  {
   "cell_type": "code",
   "execution_count": null,
   "id": "7ffd88cc-3c85-4d2c-9c83-37e656bbc7d5",
   "metadata": {},
   "outputs": [],
   "source": [
    "3.Write a Python program to print the sum of numbers from 1 to 10. \n",
    "Expected Output:55"
   ]
  },
  {
   "cell_type": "code",
   "execution_count": 4,
   "id": "aae19c27-dc74-4deb-9c36-965efbe1f1ed",
   "metadata": {},
   "outputs": [
    {
     "name": "stdout",
     "output_type": "stream",
     "text": [
      "55\n"
     ]
    }
   ],
   "source": [
    "total = 0\n",
    "for i in range(1, 11):\n",
    "    total += i\n",
    "\n",
    "print(total)\n"
   ]
  },
  {
   "cell_type": "code",
   "execution_count": null,
   "id": "b9fc5eb8-6ac8-47d3-b33c-97a52cc0e028",
   "metadata": {},
   "outputs": [],
   "source": [
    "4.Write a Python function to find the factorial of 5. Expected Output:\n",
    "120"
   ]
  },
  {
   "cell_type": "code",
   "execution_count": 5,
   "id": "90fe72b4-125b-49c5-a91f-869c6e64d337",
   "metadata": {},
   "outputs": [
    {
     "name": "stdout",
     "output_type": "stream",
     "text": [
      "120\n"
     ]
    }
   ],
   "source": [
    "def factorial(n):\n",
    "    result = 1\n",
    "    for i in range(1, n + 1):\n",
    "        result *= i  \n",
    "    return result\n",
    "\n",
    "print(factorial(5))\n"
   ]
  },
  {
   "cell_type": "code",
   "execution_count": null,
   "id": "03fd89d2-e3a0-40a8-825a-8797d46d9d60",
   "metadata": {},
   "outputs": [],
   "source": []
  }
 ],
 "metadata": {
  "kernelspec": {
   "display_name": "Python 3 (ipykernel)",
   "language": "python",
   "name": "python3"
  },
  "language_info": {
   "codemirror_mode": {
    "name": "ipython",
    "version": 3
   },
   "file_extension": ".py",
   "mimetype": "text/x-python",
   "name": "python",
   "nbconvert_exporter": "python",
   "pygments_lexer": "ipython3",
   "version": "3.13.0"
  }
 },
 "nbformat": 4,
 "nbformat_minor": 5
}
