{
 "cells": [
  {
   "cell_type": "code",
   "execution_count": 1,
   "id": "d58e3602-5deb-42c7-bfdb-2af82dbcde6b",
   "metadata": {},
   "outputs": [
    {
     "name": "stdout",
     "output_type": "stream",
     "text": [
      "hope ai\n"
     ]
    }
   ],
   "source": [
    "print(\"hope ai\")"
   ]
  },
  {
   "cell_type": "code",
   "execution_count": 2,
   "id": "18bf4c63-b091-47b4-a223-babf5d93c503",
   "metadata": {},
   "outputs": [
    {
     "name": "stdin",
     "output_type": "stream",
     "text": [
      "enter the institute name? HOPE AI\n"
     ]
    }
   ],
   "source": [
    "name=input(\"enter the institute name?\")"
   ]
  },
  {
   "cell_type": "code",
   "execution_count": 3,
   "id": "b9765a5a-5603-4fbc-bd00-9c7d0bbf8c43",
   "metadata": {},
   "outputs": [
    {
     "name": "stdout",
     "output_type": "stream",
     "text": [
      "77\n"
     ]
    }
   ],
   "source": [
    "# addition\n",
    "a=43\n",
    "b=34\n",
    "add=a+b\n",
    "print(add)"
   ]
  },
  {
   "cell_type": "code",
   "execution_count": 5,
   "id": "c1daa42c-5410-4db1-851d-876fe765d12d",
   "metadata": {},
   "outputs": [
    {
     "name": "stdout",
     "output_type": "stream",
     "text": [
      "9\n"
     ]
    }
   ],
   "source": [
    "# substraction\n",
    "a=43\n",
    "b=34\n",
    "sub=a-b\n",
    "print(sub)"
   ]
  },
  {
   "cell_type": "code",
   "execution_count": 7,
   "id": "91ad21ac-8a4e-447f-83be-6fe4ec2dc4e3",
   "metadata": {},
   "outputs": [
    {
     "name": "stdout",
     "output_type": "stream",
     "text": [
      "6111\n"
     ]
    }
   ],
   "source": [
    "# multiplication\n",
    "a=63\n",
    "b=97\n",
    "mul=a*b\n",
    "print(mul)"
   ]
  },
  {
   "cell_type": "code",
   "execution_count": 8,
   "id": "c1305494-8901-447f-85e9-b69e75df25a9",
   "metadata": {},
   "outputs": [
    {
     "name": "stdout",
     "output_type": "stream",
     "text": [
      "2.4516129032258065\n"
     ]
    }
   ],
   "source": [
    "# division\n",
    "a=76\n",
    "b=31\n",
    "divide=a/b\n",
    "print(divide)"
   ]
  },
  {
   "cell_type": "code",
   "execution_count": 9,
   "id": "e9e3da3f-8d1f-43e9-8e41-cf91c953771a",
   "metadata": {},
   "outputs": [
    {
     "name": "stdout",
     "output_type": "stream",
     "text": [
      "2\n"
     ]
    }
   ],
   "source": [
    "# floor\n",
    "a=76\n",
    "b=31\n",
    "floor=a//b\n",
    "print(floor)"
   ]
  },
  {
   "cell_type": "code",
   "execution_count": 10,
   "id": "fbab5055-096e-4458-bb3b-927d4c0790b2",
   "metadata": {},
   "outputs": [
    {
     "name": "stdout",
     "output_type": "stream",
     "text": [
      "14\n"
     ]
    }
   ],
   "source": [
    "# module\n",
    "a=76\n",
    "b=31\n",
    "module=a%b\n",
    "print(module)"
   ]
  },
  {
   "cell_type": "code",
   "execution_count": 11,
   "id": "a6ef850b-1f13-445b-8ddc-87c5518b9ff5",
   "metadata": {},
   "outputs": [
    {
     "name": "stdout",
     "output_type": "stream",
     "text": [
      "256\n"
     ]
    }
   ],
   "source": [
    "# power\n",
    "a=4\n",
    "b=4\n",
    "power=a**b\n",
    "print(power)"
   ]
  },
  {
   "cell_type": "code",
   "execution_count": null,
   "id": "ce2ec2d7-37a5-49c6-982a-6def4063e53c",
   "metadata": {},
   "outputs": [],
   "source": []
  }
 ],
 "metadata": {
  "kernelspec": {
   "display_name": "Python 3 (ipykernel)",
   "language": "python",
   "name": "python3"
  },
  "language_info": {
   "codemirror_mode": {
    "name": "ipython",
    "version": 3
   },
   "file_extension": ".py",
   "mimetype": "text/x-python",
   "name": "python",
   "nbconvert_exporter": "python",
   "pygments_lexer": "ipython3",
   "version": "3.13.0"
  }
 },
 "nbformat": 4,
 "nbformat_minor": 5
}
