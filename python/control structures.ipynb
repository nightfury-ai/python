{
 "cells": [
  {
   "cell_type": "code",
   "execution_count": 5,
   "id": "73d10534-db99-4c5f-a2ed-80fdc2e10115",
   "metadata": {},
   "outputs": [
    {
     "name": "stdout",
     "output_type": "stream",
     "text": [
      "yes\n"
     ]
    }
   ],
   "source": [
    "# if else concept\n",
    "\n",
    "\n",
    "if(True):\n",
    "    print(\"yes\")\n",
    "else:\n",
    "    print(\"no\")"
   ]
  },
  {
   "cell_type": "code",
   "execution_count": 6,
   "id": "8160c06c-f3ba-4461-b55c-343ef6e26130",
   "metadata": {},
   "outputs": [
    {
     "name": "stdout",
     "output_type": "stream",
     "text": [
      "no\n"
     ]
    }
   ],
   "source": [
    "if(False):\n",
    "    print(\"yes\")\n",
    "else:\n",
    "    print(\"no\")"
   ]
  },
  {
   "cell_type": "code",
   "execution_count": 4,
   "id": "e5f5f516-b5ef-4f4b-a8c2-246ee0a897df",
   "metadata": {},
   "outputs": [],
   "source": [
    "# comparision operators"
   ]
  },
  {
   "cell_type": "code",
   "execution_count": 5,
   "id": "a89190a0-b965-4fbc-9a5a-8d4f56c269d7",
   "metadata": {},
   "outputs": [
    {
     "name": "stdout",
     "output_type": "stream",
     "text": [
      "eesala cup namadae\n"
     ]
    }
   ],
   "source": [
    "rcb=\"win\"\n",
    "if(rcb==\"win\"):\n",
    "    print(\"eesala cup namadae\")\n",
    "else: \n",
    "    print(\"valakam pola cup namaku illa\")\n",
    "    "
   ]
  },
  {
   "cell_type": "code",
   "execution_count": 6,
   "id": "04f4e32d-bdf5-4a6e-8e5c-309ef2faa6ff",
   "metadata": {},
   "outputs": [
    {
     "name": "stdout",
     "output_type": "stream",
     "text": [
      "valakam pola cup namaku illa\n"
     ]
    }
   ],
   "source": [
    "rcb=\"lose\"\n",
    "if(rcb==\"win\"):\n",
    "    print(\"eesala cup namadae\")\n",
    "else:\n",
    "    print(\"valakam pola cup namaku illa\")\n",
    "    "
   ]
  },
  {
   "cell_type": "code",
   "execution_count": 12,
   "id": "a16f8452-9756-41ad-80a4-3cec580093e9",
   "metadata": {},
   "outputs": [
    {
     "name": "stdin",
     "output_type": "stream",
     "text": [
      "enter the meghna status : died\n"
     ]
    }
   ],
   "source": [
    "meghna=input(\"enter the meghna status :\")"
   ]
  },
  {
   "cell_type": "code",
   "execution_count": 13,
   "id": "59c47b24-8b09-4f54-b6bd-324292d2bc26",
   "metadata": {},
   "outputs": [
    {
     "name": "stdout",
     "output_type": "stream",
     "text": [
      "surya weds meghna\n"
     ]
    }
   ],
   "source": [
    "meghna=\"live\"\n",
    "if(meghna==\"dead\"):\n",
    "    print(\"surya meets priya\")\n",
    "else:\n",
    "    print(\"surya weds meghna\")"
   ]
  },
  {
   "cell_type": "markdown",
   "id": "d77db551-e256-4a97-af05-b031a9be34fc",
   "metadata": {},
   "source": [
    " so whats the question means ahe is 18 print child above 18 print adult i wrote the program please cheak"
   ]
  },
  {
   "cell_type": "code",
   "execution_count": 18,
   "id": "ff873825-3b37-4307-9148-f3b54328bac2",
   "metadata": {},
   "outputs": [
    {
     "name": "stdin",
     "output_type": "stream",
     "text": [
      "enter the user age: 23\n"
     ]
    }
   ],
   "source": [
    "age=int(input(\"enter the user age:\"))"
   ]
  },
  {
   "cell_type": "code",
   "execution_count": 19,
   "id": "e425f227-76da-4f0e-994f-437acb851b95",
   "metadata": {},
   "outputs": [
    {
     "name": "stdout",
     "output_type": "stream",
     "text": [
      "adult\n"
     ]
    }
   ],
   "source": [
    "if(age<=18):\n",
    "    print(\"children\")\n",
    "else:\n",
    "    print(\"adult\")"
   ]
  },
  {
   "cell_type": "markdown",
   "id": "fea34197-f4c5-4d3d-a23e-3bdb59305fe3",
   "metadata": {},
   "source": [
    "if elif"
   ]
  },
  {
   "cell_type": "code",
   "execution_count": 20,
   "id": "68a3d93f-fd33-408a-9a3e-d39c5410d41f",
   "metadata": {},
   "outputs": [
    {
     "name": "stdin",
     "output_type": "stream",
     "text": [
      "enter the user age: 49\n"
     ]
    }
   ],
   "source": [
    "age=int(input(\"enter the user age:\"))"
   ]
  },
  {
   "cell_type": "markdown",
   "id": "ba7d93a1-1ad6-4325-8d01-1ab80e267d4e",
   "metadata": {},
   "source": [
    "age<-->18(children)\n",
    "age<-->35(adult)\n",
    "age<-->59(citizen)\n",
    "age>-->59( senior citizen)"
   ]
  },
  {
   "cell_type": "code",
   "execution_count": 4,
   "id": "4e18fd94-0aed-4546-bb05-e1f8c8776326",
   "metadata": {},
   "outputs": [
    {
     "name": "stdout",
     "output_type": "stream",
     "text": [
      "citizen\n"
     ]
    }
   ],
   "source": [
    "if(age<18):\n",
    "    print(\"children\")\n",
    "elif(age<35):\n",
    "    print(\"adult\")\n",
    "elif(age<59):\n",
    "    print(\"citizen\")\n",
    "else:\n",
    "    print(\"senior citizen\")"
   ]
  },
  {
   "cell_type": "markdown",
   "id": "e89d443d-f92f-474a-913f-a7bde2f476ad",
   "metadata": {},
   "source": [
    "for loop"
   ]
  },
  {
   "cell_type": "code",
   "execution_count": 1,
   "id": "8a58c44b-35e7-4743-b7ea-ca6585382693",
   "metadata": {},
   "outputs": [
    {
     "ename": "NameError",
     "evalue": "name 'mainvariable' is not defined",
     "output_type": "error",
     "traceback": [
      "\u001b[1;31m---------------------------------------------------------------------------\u001b[0m",
      "\u001b[1;31mNameError\u001b[0m                                 Traceback (most recent call last)",
      "Cell \u001b[1;32mIn[1], line 1\u001b[0m\n\u001b[1;32m----> 1\u001b[0m \u001b[38;5;28;01mfor\u001b[39;00m temp \u001b[38;5;129;01min\u001b[39;00m \u001b[43mmainvariable\u001b[49m:\n\u001b[0;32m      2\u001b[0m     \u001b[38;5;28mprint\u001b[39m()\n",
      "\u001b[1;31mNameError\u001b[0m: name 'mainvariable' is not defined"
     ]
    }
   ],
   "source": [
    "for temp in mainvariable:\n",
    "    print()"
   ]
  },
  {
   "cell_type": "code",
   "execution_count": 2,
   "id": "f35b113c-9ada-4f7a-9f7f-5f1b702a6fdf",
   "metadata": {},
   "outputs": [],
   "source": [
    "list=[24,34,44,54,64]"
   ]
  },
  {
   "cell_type": "code",
   "execution_count": 3,
   "id": "7681eb69-e988-4d22-ba12-39f6c6cbc7e3",
   "metadata": {},
   "outputs": [
    {
     "name": "stdout",
     "output_type": "stream",
     "text": [
      "24\n",
      "34\n",
      "44\n",
      "54\n",
      "64\n"
     ]
    }
   ],
   "source": [
    "for temp in list:\n",
    "    print(temp)"
   ]
  },
  {
   "cell_type": "code",
   "execution_count": 2,
   "id": "0b5cd32b-090b-48c2-a39a-dd004cb026f4",
   "metadata": {},
   "outputs": [],
   "source": [
    "list=[23,39,67,34,45]"
   ]
  },
  {
   "cell_type": "code",
   "execution_count": 3,
   "id": "30a4f056-a099-4abc-88d4-392a45710825",
   "metadata": {},
   "outputs": [
    {
     "name": "stdout",
     "output_type": "stream",
     "text": [
      "adult\n",
      "citizen\n",
      "senior citizen\n",
      "adult\n",
      "citizen\n"
     ]
    }
   ],
   "source": [
    "for age in list:\n",
    "   if(age<18):\n",
    "      print(\"children\")\n",
    "   elif(age<35):\n",
    "      print(\"adult\")\n",
    "   elif(age<59):\n",
    "      print(\"citizen\")\n",
    "   else:\n",
    "      print(\"senior citizen\")\n",
    "\n",
    "\n",
    "    "
   ]
  },
  {
   "cell_type": "markdown",
   "id": "25cf8683-7763-45ab-b2e5-aaae8a17a1c6",
   "metadata": {},
   "source": [
    "range"
   ]
  },
  {
   "cell_type": "code",
   "execution_count": null,
   "id": "ec4ad847-5027-4ac4-ad13-d4a71d8b6258",
   "metadata": {},
   "outputs": [],
   "source": []
  }
 ],
 "metadata": {
  "kernelspec": {
   "display_name": "Python 3 (ipykernel)",
   "language": "python",
   "name": "python3"
  },
  "language_info": {
   "codemirror_mode": {
    "name": "ipython",
    "version": 3
   },
   "file_extension": ".py",
   "mimetype": "text/x-python",
   "name": "python",
   "nbconvert_exporter": "python",
   "pygments_lexer": "ipython3",
   "version": "3.13.0"
  }
 },
 "nbformat": 4,
 "nbformat_minor": 5
}
