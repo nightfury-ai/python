{
 "cells": [
  {
   "cell_type": "markdown",
   "id": "613a37a6-928b-4589-9e72-a66ba16be7b0",
   "metadata": {},
   "source": [
    "# debugging"
   ]
  },
  {
   "cell_type": "code",
   "execution_count": 2,
   "id": "9438f442-8f00-4913-8b7e-7be5239b6556",
   "metadata": {},
   "outputs": [
    {
     "name": "stdout",
     "output_type": "stream",
     "text": [
      "4.0\n"
     ]
    }
   ],
   "source": [
    "#1.Find the error in the following Python code:\n",
    "\n",
    "import math\n",
    "print(math.sqrt(16))\n"
   ]
  },
  {
   "cell_type": "code",
   "execution_count": 4,
   "id": "dca57777-98b0-47fa-abc5-556a4f89de80",
   "metadata": {},
   "outputs": [
    {
     "name": "stdout",
     "output_type": "stream",
     "text": [
      "15\n"
     ]
    }
   ],
   "source": [
    "#2.Find the error in the following Python code:\n",
    "def my_function(x):\n",
    "    x += 5\n",
    "    print(x)\n",
    "\n",
    "x = 10\n",
    "my_function(x)\n"
   ]
  },
  {
   "cell_type": "code",
   "execution_count": 6,
   "id": "5114ed37-3105-40a3-b1be-bea331637b47",
   "metadata": {},
   "outputs": [
    {
     "name": "stdout",
     "output_type": "stream",
     "text": [
      "x is 10\n"
     ]
    }
   ],
   "source": [
    "#3.x = 5\n",
    "if x== 10:\n",
    "    print(\"x is 10\")"
   ]
  },
  {
   "cell_type": "code",
   "execution_count": 7,
   "id": "d7ed95af-6590-4caf-b270-24e3d07f19c2",
   "metadata": {},
   "outputs": [
    {
     "name": "stdout",
     "output_type": "stream",
     "text": [
      "None\n"
     ]
    }
   ],
   "source": [
    "#4.\n",
    "numbers = [5, 3, 8, 2]\n",
    "print(numbers.sort())"
   ]
  },
  {
   "cell_type": "code",
   "execution_count": 9,
   "id": "8a1729b8-ee3c-45f6-ae26-c3b724b22e4c",
   "metadata": {},
   "outputs": [
    {
     "name": "stdout",
     "output_type": "stream",
     "text": [
      "16\n"
     ]
    }
   ],
   "source": [
    "#5.\n",
    "def square(n):\n",
    "   return n * n\n",
    "\n",
    "print(square(4))\n"
   ]
  },
  {
   "cell_type": "code",
   "execution_count": 11,
   "id": "3f4cd259-af30-46e9-be88-ccd0f6c0cfe9",
   "metadata": {},
   "outputs": [
    {
     "name": "stdout",
     "output_type": "stream",
     "text": [
      "[1, 5, 3]\n"
     ]
    }
   ],
   "source": [
    "#6.\n",
    "my_list = [1, 2, 3]\n",
    "my_list[1] = 5\n",
    "print(my_list)\n"
   ]
  },
  {
   "cell_type": "code",
   "execution_count": 14,
   "id": "ff67a5f4-890d-43d0-aac5-0ef79958d771",
   "metadata": {},
   "outputs": [
    {
     "name": "stdout",
     "output_type": "stream",
     "text": [
      "My name is Alice and I am 25 years old\n"
     ]
    }
   ],
   "source": [
    "# 7\n",
    "\n",
    "name = \"Alice\"\n",
    "age = 25\n",
    "print(\"My name is %s and I am %d years old\" % (name, age))\n"
   ]
  },
  {
   "cell_type": "code",
   "execution_count": 15,
   "id": "5878cdc3-b948-464c-a61d-de39b68fa73f",
   "metadata": {},
   "outputs": [
    {
     "name": "stdout",
     "output_type": "stream",
     "text": [
      "Lists are equal\n"
     ]
    }
   ],
   "source": [
    "# 8\n",
    "\n",
    "a = [1, 2, 3]\n",
    "b = [1, 2, 3]\n",
    "if a == b:\n",
    "    print(\"Lists are equal\")\n"
   ]
  },
  {
   "cell_type": "code",
   "execution_count": 16,
   "id": "1120dd83-d8d6-4b38-8168-7ec939601dd6",
   "metadata": {},
   "outputs": [
    {
     "name": "stdout",
     "output_type": "stream",
     "text": [
      "5\n",
      "4\n",
      "3\n",
      "2\n"
     ]
    }
   ],
   "source": [
    "# 9\n",
    "for i in range(5, 1, -1):\n",
    "    print(i)\n"
   ]
  },
  {
   "cell_type": "code",
   "execution_count": 19,
   "id": "5d8a602e-a104-4a69-8533-66b5213c0037",
   "metadata": {},
   "outputs": [
    {
     "name": "stdout",
     "output_type": "stream",
     "text": [
      "John\n"
     ]
    }
   ],
   "source": [
    "# 10\n",
    "\n",
    "student = {\"name\": \"John\", \"age\": 20}\n",
    "print(student[\"name\"])\n"
   ]
  },
  {
   "cell_type": "markdown",
   "id": "41d2970f-e9e7-4f43-b134-67e9971168be",
   "metadata": {},
   "source": [
    "# senario based problem"
   ]
  },
  {
   "cell_type": "code",
   "execution_count": null,
   "id": "d0122a1e-025f-4411-918b-451c59084d5f",
   "metadata": {},
   "outputs": [],
   "source": [
    " \"\"\"\n",
    " 1.Categorize amount as positive, negative, or zero\n",
    "\n",
    "If amount > 0 → it is  positive\n",
    "\n",
    "If amount < 0 → it is  negative\n",
    "\n",
    "If amount == 0 → it is zero   \"\"\""
   ]
  },
  {
   "cell_type": "code",
   "execution_count": null,
   "id": "9bcd30ee-51c3-4dc2-bef9-1b75de2984a0",
   "metadata": {},
   "outputs": [],
   "source": [
    "\"\"\" 2. Sum of digits in a passcode\n",
    "\n",
    "Initialize sum = 0\n",
    "\n",
    "Extract each digit using % 10, add to sum\n",
    "\n",
    "Remove last digit using // 10\n",
    "\n",
    "Repeat until number is 0  \"\"\""
   ]
  },
  {
   "cell_type": "code",
   "execution_count": null,
   "id": "2c2f3ec9-1c28-442b-bc69-402f03f9f1ef",
   "metadata": {},
   "outputs": [],
   "source": [
    "\"\"\" 4.Check if a number is prime (user ID)\n",
    "\n",
    "If number < 2 → not prime\n",
    "\n",
    "Check divisibility from 2 to √number\n",
    "\n",
    "If divisible by any, it's not prime\n",
    "\n",
    "Else, it's prime \"\"\"\n",
    "\n"
   ]
  },
  {
   "cell_type": "code",
   "execution_count": null,
   "id": "fdbf024a-8454-45e1-9a3c-f3cd530157ea",
   "metadata": {},
   "outputs": [],
   "source": [
    "# 7\n",
    "\n",
    " \"\"\" Swap first and last characters of a string\n",
    "\n",
    "Convert string to list or use slicing\n",
    "\n",
    "Swap character at position 0 and -1\n",
    "\n",
    "Join back or return the modified string  \"\"\""
   ]
  },
  {
   "cell_type": "code",
   "execution_count": null,
   "id": "5e229e22-f97e-4e37-953a-acf908ae0767",
   "metadata": {},
   "outputs": [],
   "source": [
    "# 8\n",
    "\n",
    "\"\"\"\n",
    "Convert decimal to binary\n",
    "\n",
    "Repeatedly divide number by 2\n",
    "\n",
    "Store remainders\n",
    "\n",
    "Reverse the collected remainders to get binary\n",
    "\n",
    "\"\"\""
   ]
  },
  {
   "cell_type": "code",
   "execution_count": null,
   "id": "f8858c5f-b98c-4be8-b3b0-f1d2e0bea6b3",
   "metadata": {},
   "outputs": [],
   "source": [
    "# 9\n",
    "\n",
    "\"\"\"\n",
    "Find longest word in a sentence\n",
    "\n",
    "Split sentence into words using space\n",
    "\n",
    "Track the word with maximum length\n",
    "\n",
    "\"\"\"\n",
    "\n"
   ]
  },
  {
   "cell_type": "code",
   "execution_count": null,
   "id": "bade5a14-ebd0-48f7-a060-518656cd477c",
   "metadata": {},
   "outputs": [],
   "source": [
    "# 10\n",
    "\"\"\"\n",
    " Check if two strings are anagrams\n",
    "\n",
    "Remove spaces and convert to lowercase\n",
    "\n",
    "Sort both strings\n",
    "\n",
    "If sorted versions are equal → they are anagrams\n",
    "\n",
    "\"\"\"\n",
    "\n"
   ]
  },
  {
   "cell_type": "markdown",
   "id": "b617c711-4bee-4b15-8541-306bff2e4d71",
   "metadata": {},
   "source": [
    "# coding"
   ]
  },
  {
   "cell_type": "code",
   "execution_count": 1,
   "id": "b92a1c3b-0d2b-4da7-a4d9-b08e5e6af8e0",
   "metadata": {},
   "outputs": [
    {
     "name": "stdout",
     "output_type": "stream",
     "text": [
      "olleh\n"
     ]
    }
   ],
   "source": [
    "text = \"hello\"\n",
    "\n",
    "reversed_text = text[::-1]\n",
    "\n",
    "print(reversed_text)\n"
   ]
  },
  {
   "cell_type": "code",
   "execution_count": 2,
   "id": "00392a82-5e28-4949-bf38-d76b68b38f52",
   "metadata": {},
   "outputs": [
    {
     "name": "stdout",
     "output_type": "stream",
     "text": [
      "0 1\n",
      "1\n",
      "2\n",
      "3\n",
      "5\n",
      "8\n",
      "13\n",
      "21\n",
      "34\n"
     ]
    }
   ],
   "source": [
    "a, b = 0, 1\n",
    "print(a, b)\n",
    "for _ in range(8):\n",
    "    c = a + b\n",
    "    print(c)\n",
    "    a, b = b, c\n"
   ]
  },
  {
   "cell_type": "code",
   "execution_count": 3,
   "id": "9304f40e-ea0d-4932-9352-62859034a53f",
   "metadata": {},
   "outputs": [
    {
     "name": "stdout",
     "output_type": "stream",
     "text": [
      "madam is a palindrome\n"
     ]
    }
   ],
   "source": [
    "def is_palindrome(s):\n",
    "    if s == s[::-1]:\n",
    "        print(f\"{s} is a palindrome\")\n",
    "    else:\n",
    "        print(f\"{s} is not a palindrome\")\n",
    "\n",
    "is_palindrome(\"madam\")\n"
   ]
  },
  {
   "cell_type": "code",
   "execution_count": 4,
   "id": "acb7747e-be74-46a8-9ffc-a1a25877d48c",
   "metadata": {},
   "outputs": [
    {
     "name": "stdout",
     "output_type": "stream",
     "text": [
      "Number of vowels: 5\n"
     ]
    }
   ],
   "source": [
    "s = \"education\"\n",
    "vowels = \"aeiouAEIOU\"\n",
    "count = 0\n",
    "for char in s:\n",
    "    if char in vowels:\n",
    "        count += 1\n",
    "print(\"Number of vowels:\", count)\n"
   ]
  },
  {
   "cell_type": "code",
   "execution_count": 5,
   "id": "cae27fd7-a792-441c-a580-3517f154441f",
   "metadata": {},
   "outputs": [
    {
     "name": "stdout",
     "output_type": "stream",
     "text": [
      "[1, 2, 3, 4, 5]\n"
     ]
    }
   ],
   "source": [
    "lst = [1, 2, 2, 3, 4, 4, 5]\n",
    "unique_lst = list(set(lst))\n",
    "unique_lst.sort()\n",
    "print(unique_lst)\n"
   ]
  },
  {
   "cell_type": "code",
   "execution_count": null,
   "id": "1417deac-3f0d-4ee1-929f-55cb02cfc1f4",
   "metadata": {},
   "outputs": [],
   "source": []
  }
 ],
 "metadata": {
  "kernelspec": {
   "display_name": "Python 3 (ipykernel)",
   "language": "python",
   "name": "python3"
  },
  "language_info": {
   "codemirror_mode": {
    "name": "ipython",
    "version": 3
   },
   "file_extension": ".py",
   "mimetype": "text/x-python",
   "name": "python",
   "nbconvert_exporter": "python",
   "pygments_lexer": "ipython3",
   "version": "3.13.0"
  }
 },
 "nbformat": 4,
 "nbformat_minor": 5
}
