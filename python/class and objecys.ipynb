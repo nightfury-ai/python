{
 "cells": [
  {
   "cell_type": "code",
   "execution_count": 16,
   "id": "450b8eb5-e739-4c17-8cb7-150edecb190c",
   "metadata": {},
   "outputs": [
    {
     "name": "stdout",
     "output_type": "stream",
     "text": [
      "ramesh\n",
      "suresh\n",
      "yes\n",
      "no\n",
      "lets party...\n",
      "enjoying the beach..\n"
     ]
    }
   ],
   "source": [
    "class goa:\n",
    "    name=\"abcd\"\n",
    "    drink=\"\"\n",
    "    def party(self):\n",
    "        print(\"lets party...\")\n",
    "    def beach(self):\n",
    "        print(\"enjoying the beach..\")\n",
    "\n",
    "ramesh=goa()\n",
    "suresh=goa()\n",
    "\n",
    "\n",
    "\n",
    "ramesh.name=\"ramesh\"\n",
    "print(ramesh.name)\n",
    "suresh.name=\"suresh\"\n",
    "print(suresh.name)\n",
    "\n",
    "ramesh.drink=\"yes\"\n",
    "print(ramesh.drink)\n",
    "suresh.drink=\"no\"\n",
    "print(suresh.drink)\n",
    "\n",
    "ramesh.party()\n",
    "suresh.beach()\n",
    "\n"
   ]
  },
  {
   "cell_type": "code",
   "execution_count": 18,
   "id": "0b661c27-59d1-4ca0-b84c-63697cde95e8",
   "metadata": {},
   "outputs": [
    {
     "name": "stdout",
     "output_type": "stream",
     "text": [
      "50k\n"
     ]
    }
   ],
   "source": [
    "class laptop:\n",
    "    price=\"\"\n",
    "    processor=\"\"\n",
    "    ram=\"\"\n",
    "\n",
    "hp=laptop()\n",
    "dell=laptop()\n",
    "\n",
    "\n",
    "hp.price=\"50k\"\n",
    "hp.processor=\"3050\"\n",
    "hp.ram=\"8gb\"\n",
    "\n",
    "\n",
    "dell.price=\"60k\"\n",
    "dell.processor=\"4050\"\n",
    "dell.ram=\"16gb\"\n",
    "\n",
    "print(hp.price)\n"
   ]
  },
  {
   "cell_type": "markdown",
   "id": "cfdc6a6f-078b-436a-9e23-470ae4d105a7",
   "metadata": {},
   "source": [
    "# class problems"
   ]
  },
  {
   "cell_type": "code",
   "execution_count": 4,
   "id": "a7c0c818-86d3-45a3-9c57-926ef7a1bcce",
   "metadata": {},
   "outputs": [
    {
     "name": "stdout",
     "output_type": "stream",
     "text": [
      "subfields in ai are:\n",
      "machine learning\n",
      "neural networks\n",
      "vision\n",
      "robotics\n",
      "speech processing\n",
      "natural language processing\n"
     ]
    }
   ],
   "source": [
    "class subfield():\n",
    "    def subfields():\n",
    "       print(\"subfields in ai are:\")\n",
    "       list=[\"machine learning\",\"neural networks\",\"vision\",\"robotics\",\"speech processing\",\"natural language processing\"]\n",
    "       for temp in list:\n",
    "         print(temp)\n",
    "subfield.subfields()       "
   ]
  },
  {
   "cell_type": "code",
   "execution_count": 10,
   "id": "22b1aea1-8c32-458d-a6fd-ad72320ff027",
   "metadata": {},
   "outputs": [
    {
     "name": "stdin",
     "output_type": "stream",
     "text": [
      "enter the number: 52452\n"
     ]
    },
    {
     "name": "stdout",
     "output_type": "stream",
     "text": [
      "this is even number\n"
     ]
    }
   ],
   "source": [
    "class oddeven():\n",
    "    def oddeven():\n",
    "        if num%2==0:\n",
    "           print(\"this is even number\")\n",
    "        else:\n",
    "           print(\"this is odd number\")\n",
    "        \n",
    "num=int(input(\"enter the number:\"))\n",
    "oddeven.oddeven()\n",
    "    \n"
   ]
  },
  {
   "cell_type": "code",
   "execution_count": 13,
   "id": "b42a35be-50dc-411a-a722-cd7a9a8ddb4c",
   "metadata": {},
   "outputs": [
    {
     "name": "stdin",
     "output_type": "stream",
     "text": [
      "enter the gender: male\n",
      "enter your age: 20\n"
     ]
    },
    {
     "name": "stdout",
     "output_type": "stream",
     "text": [
      "NOT ELIGIBLE FOR MARRIAGE\n"
     ]
    }
   ],
   "source": [
    "class eligibilityformarriage():\n",
    "    def eligibilityformarriage():\n",
    "        if age<=24:\n",
    "          print(\"NOT ELIGIBLE FOR MARRIAGE\")\n",
    "        else:\n",
    "          print(\"ELIGIBLE FOR MARRIAGE\")\n",
    "\n",
    "gender=input(\"enter the gender:\")\n",
    "age=int(input(\"enter your age:\"))\n",
    "\n",
    "eligibilityformarriage.eligibilityformarriage()\n",
    "    "
   ]
  },
  {
   "cell_type": "code",
   "execution_count": 15,
   "id": "d3a202ea-7681-4c29-804d-4c787a0d97e1",
   "metadata": {},
   "outputs": [
    {
     "name": "stdin",
     "output_type": "stream",
     "text": [
      "subject1= 98\n",
      "subject2= 87\n",
      "subject3= 95\n",
      "subject4= 95\n",
      "subject5= 93\n"
     ]
    },
    {
     "name": "stdout",
     "output_type": "stream",
     "text": [
      "total: 468\n",
      "percentage 93.6\n"
     ]
    }
   ],
   "source": [
    "class findpercent():\n",
    "   def findpercent():\n",
    "    subject1=int(input(\"subject1=\"))\n",
    "    subject2=int(input(\"subject2=\"))\n",
    "    subject3=int(input(\"subject3=\"))\n",
    "    subject4=int(input(\"subject4=\"))\n",
    "    subject5=int(input(\"subject5=\"))\n",
    "    total=subject1+subject2+subject3+subject4+subject5\n",
    "    percent=total/5\n",
    "    print(\"total:\",total)\n",
    "    print(\"percentage\",percent)\n",
    "    \n",
    "    \n",
    "\n",
    "findpercent.findpercent()  \n",
    "    "
   ]
  },
  {
   "cell_type": "code",
   "execution_count": null,
   "id": "01a24400-4d2f-4c1a-8a38-fb85216ead7a",
   "metadata": {},
   "outputs": [],
   "source": [
    "class triangle():\n",
    "  def triangle():\n",
    "    height = int(input(\"Height: \"))\n",
    "    breadth = int(input(\"Breadth: \"))\n",
    "    print(\"Area formula: (Height * Breadth) / 2\")\n",
    "    \n",
    "    area = (height * breadth) / 2\n",
    "    print(\"Area of Triangle:\", area)\n",
    "\n",
    "    height1 = int(input(\"Height1: \"))\n",
    "    height2 = int(input(\"Height2: \"))\n",
    "    breadth = int(input(\"Breadth: \"))\n",
    "    print(\"Perimeter formula: Height1 + Height2 + Breadth\")\n",
    "    total = height1 + height2 + breadth\n",
    "    print(\"Perimeter of Triangle:\", total)\n",
    "    \n",
    "    \n",
    "\n",
    "triangle.\n",
    "\n",
    "    "
   ]
  },
  {
   "cell_type": "code",
   "execution_count": null,
   "id": "1679134a-ad78-406c-a792-ea33413f4965",
   "metadata": {},
   "outputs": [],
   "source": []
  }
 ],
 "metadata": {
  "kernelspec": {
   "display_name": "Python 3 (ipykernel)",
   "language": "python",
   "name": "python3"
  },
  "language_info": {
   "codemirror_mode": {
    "name": "ipython",
    "version": 3
   },
   "file_extension": ".py",
   "mimetype": "text/x-python",
   "name": "python",
   "nbconvert_exporter": "python",
   "pygments_lexer": "ipython3",
   "version": "3.13.0"
  }
 },
 "nbformat": 4,
 "nbformat_minor": 5
}
