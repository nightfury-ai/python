{
 "cells": [
  {
   "cell_type": "code",
   "execution_count": 2,
   "id": "8afe5f2c-46d4-4aa4-adfd-a171cd537b90",
   "metadata": {},
   "outputs": [
    {
     "name": "stdout",
     "output_type": "stream",
     "text": [
      "correct\n"
     ]
    }
   ],
   "source": [
    "# print 'CORRECT' if i == 10\n",
    "i=10\n",
    "if i==10:\n",
    "    print(\"correct\")\n",
    "else:\n",
    "    print(\"wrong\")"
   ]
  },
  {
   "cell_type": "code",
   "execution_count": 4,
   "id": "ebccfc6b-f95c-4e59-abe0-d906184bdc03",
   "metadata": {},
   "outputs": [
    {
     "name": "stdin",
     "output_type": "stream",
     "text": [
      "enter the password: HOPE@123\n"
     ]
    }
   ],
   "source": [
    "# Check the password, using if and else\n",
    "\n",
    "password=input(\"enter the password:\")\n",
    "\n"
   ]
  },
  {
   "cell_type": "code",
   "execution_count": 10,
   "id": "58c4104f-2783-406d-bf51-3993f1537e29",
   "metadata": {},
   "outputs": [
    {
     "ename": "NameError",
     "evalue": "name 'HOPE' is not defined",
     "output_type": "error",
     "traceback": [
      "\u001b[1;31m---------------------------------------------------------------------------\u001b[0m",
      "\u001b[1;31mNameError\u001b[0m                                 Traceback (most recent call last)",
      "Cell \u001b[1;32mIn[10], line 1\u001b[0m\n\u001b[1;32m----> 1\u001b[0m \u001b[38;5;28;01mif\u001b[39;00m  password \u001b[38;5;241m==\u001b[39m \u001b[43mHOPE\u001b[49m\u001b[38;5;241m@\u001b[39m\u001b[38;5;241m123\u001b[39m:\n\u001b[0;32m      2\u001b[0m     \u001b[38;5;28mprint\u001b[39m(\u001b[38;5;124m\"\u001b[39m\u001b[38;5;124mcorrect\u001b[39m\u001b[38;5;124m\"\u001b[39m)\n\u001b[0;32m      3\u001b[0m \u001b[38;5;28;01melse\u001b[39;00m:\n",
      "\u001b[1;31mNameError\u001b[0m: name 'HOPE' is not defined"
     ]
    }
   ],
   "source": [
    "\n",
    "if  password == HOPE@123:\n",
    "    print(\"correct\")\n",
    "else:\n",
    "    print(\"wrong\")"
   ]
  },
  {
   "cell_type": "code",
   "execution_count": 11,
   "id": "9f8e10f2-afd7-42fd-aff6-d9c144cbe208",
   "metadata": {},
   "outputs": [
    {
     "name": "stdout",
     "output_type": "stream",
     "text": [
      "correct\n"
     ]
    }
   ],
   "source": [
    "if  password == \"HOPE@123\":\n",
    "    print(\"correct\")\n",
    "else:\n",
    "    print(\"wrong\")"
   ]
  },
  {
   "cell_type": "code",
   "execution_count": 15,
   "id": "177b2591-434b-4b86-af4b-f5970a24b095",
   "metadata": {},
   "outputs": [
    {
     "name": "stdout",
     "output_type": "stream",
     "text": [
      "citizen\n"
     ]
    },
    {
     "name": "stdin",
     "output_type": "stream",
     "text": [
      "enter the age : 22\n"
     ]
    }
   ],
   "source": [
    "# age<-->18(children) age<-->35(adult) age<-->59(citizen) age>-->59( senior citizen)\n",
    "\n",
    "if(age<18):\n",
    "    print(\"children\")\n",
    "elif(age<35):\n",
    "    print(\"adult\")\n",
    "elif(age<59):\n",
    "    print(\"citizen\")\n",
    "else:\n",
    "    print(\"senior citizen\")\n",
    "\n",
    "\n",
    "age=int(input(\"enter the age :\"))    "
   ]
  },
  {
   "cell_type": "code",
   "execution_count": 16,
   "id": "a89db0de-2b6d-44be-bdaf-e768d21b586e",
   "metadata": {},
   "outputs": [
    {
     "name": "stdin",
     "output_type": "stream",
     "text": [
      "enter the any number: -34\n"
     ]
    }
   ],
   "source": [
    "# Find whether given number is positive or negative\n",
    "\n",
    "num=int(input(\"enter the any number:\"))\n",
    "\n"
   ]
  },
  {
   "cell_type": "code",
   "execution_count": 21,
   "id": "8f247198-6207-45a6-a13f-17d5715aac5f",
   "metadata": {},
   "outputs": [
    {
     "name": "stdout",
     "output_type": "stream",
     "text": [
      "negative\n"
     ]
    }
   ],
   "source": [
    "if num>0:\n",
    "    print(\"positive\")\n",
    "else :\n",
    "    print(\"negative\")\n"
   ]
  },
  {
   "cell_type": "code",
   "execution_count": 22,
   "id": "0d3e107c-6fc6-44a6-9b27-b443899e2cf9",
   "metadata": {},
   "outputs": [
    {
     "name": "stdin",
     "output_type": "stream",
     "text": [
      "enter the number to check: 22\n"
     ]
    }
   ],
   "source": [
    "# Check whether the given number is divisible by 5\n",
    "\n",
    "num=int(input(\"enter the number to check:\"))"
   ]
  },
  {
   "cell_type": "code",
   "execution_count": 25,
   "id": "3ef81583-a9dc-4e6c-b391-86c2864aba3d",
   "metadata": {},
   "outputs": [
    {
     "name": "stdout",
     "output_type": "stream",
     "text": [
      "no its not divisible\n"
     ]
    }
   ],
   "source": [
    "if num%5==0:\n",
    "    print( \"yes it is divisible\")\n",
    "else:\n",
    "    print(\"no its not divisible\")"
   ]
  },
  {
   "cell_type": "code",
   "execution_count": null,
   "id": "969c8ff9-b745-459d-a318-72964bdc93fd",
   "metadata": {},
   "outputs": [],
   "source": []
  }
 ],
 "metadata": {
  "kernelspec": {
   "display_name": "Python 3 (ipykernel)",
   "language": "python",
   "name": "python3"
  },
  "language_info": {
   "codemirror_mode": {
    "name": "ipython",
    "version": 3
   },
   "file_extension": ".py",
   "mimetype": "text/x-python",
   "name": "python",
   "nbconvert_exporter": "python",
   "pygments_lexer": "ipython3",
   "version": "3.13.0"
  }
 },
 "nbformat": 4,
 "nbformat_minor": 5
}
