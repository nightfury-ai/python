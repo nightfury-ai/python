{
 "cells": [
  {
   "cell_type": "markdown",
   "id": "712993bd-231e-4468-8456-d32a9f79d674",
   "metadata": {},
   "source": [
    "# functions"
   ]
  },
  {
   "cell_type": "code",
   "execution_count": 1,
   "id": "5345e906-e43b-482f-bc89-231ee3e6f031",
   "metadata": {},
   "outputs": [
    {
     "name": "stdout",
     "output_type": "stream",
     "text": [
      "printing\n"
     ]
    }
   ],
   "source": [
    "def printer():\n",
    "    print(\"printing\")\n",
    "\n",
    "printer()    "
   ]
  },
  {
   "cell_type": "code",
   "execution_count": 9,
   "id": "7862efc0-8d36-4196-b07c-62118440b681",
   "metadata": {},
   "outputs": [
    {
     "name": "stdout",
     "output_type": "stream",
     "text": [
      "addition\n"
     ]
    },
    {
     "name": "stdin",
     "output_type": "stream",
     "text": [
      "enter the num1 : 1\n",
      "enter the num2: 1\n"
     ]
    },
    {
     "name": "stdout",
     "output_type": "stream",
     "text": [
      "2\n"
     ]
    }
   ],
   "source": [
    "def add():\n",
    "    print(\"addition\")\n",
    "    num1=int(input(\"enter the num1 :\"))\n",
    "    num2=int(input(\"enter the num2:\"))\n",
    "    print(num1+num2)\n",
    "\n",
    "add()   "
   ]
  },
  {
   "cell_type": "code",
   "execution_count": 11,
   "id": "0db163f0-e11b-4be5-ab49-8e5d810d6004",
   "metadata": {},
   "outputs": [
    {
     "name": "stdout",
     "output_type": "stream",
     "text": [
      "subtraction\n"
     ]
    },
    {
     "name": "stdin",
     "output_type": "stream",
     "text": [
      "enter the num1 : 45\n",
      "enter the num2: 35\n"
     ]
    },
    {
     "name": "stdout",
     "output_type": "stream",
     "text": [
      "10\n"
     ]
    }
   ],
   "source": [
    "def sub():\n",
    "    print(\"subtraction\")\n",
    "    num1=int(input(\"enter the num1 :\"))\n",
    "    num2=int(input(\"enter the num2:\"))\n",
    "    print(num1-num2)\n",
    "\n",
    "sub()"
   ]
  },
  {
   "cell_type": "code",
   "execution_count": 12,
   "id": "ffaa337e-42cc-4188-8466-acfde6dc2dc3",
   "metadata": {},
   "outputs": [
    {
     "name": "stdout",
     "output_type": "stream",
     "text": [
      "multiplication\n"
     ]
    },
    {
     "name": "stdin",
     "output_type": "stream",
     "text": [
      "enter the num1 : 16\n",
      "enter the num2: 16\n"
     ]
    },
    {
     "name": "stdout",
     "output_type": "stream",
     "text": [
      "256\n"
     ]
    }
   ],
   "source": [
    "def mul():\n",
    "    print(\"multiplication\")\n",
    "    num1=int(input(\"enter the num1 :\"))\n",
    "    num2=int(input(\"enter the num2:\"))\n",
    "    print(num1*num2)\n",
    "\n",
    "mul()"
   ]
  },
  {
   "cell_type": "code",
   "execution_count": 13,
   "id": "d6c25d7b-63ad-420e-9eb8-6864ff453921",
   "metadata": {},
   "outputs": [
    {
     "name": "stdout",
     "output_type": "stream",
     "text": [
      "division\n"
     ]
    },
    {
     "name": "stdin",
     "output_type": "stream",
     "text": [
      "enter the num1 : 100\n",
      "enter the num2: 100\n"
     ]
    },
    {
     "name": "stdout",
     "output_type": "stream",
     "text": [
      "1.0\n"
     ]
    }
   ],
   "source": [
    "def division():\n",
    "    print(\"division\")\n",
    "    num1=int(input(\"enter the num1 :\"))\n",
    "    num2=int(input(\"enter the num2:\"))\n",
    "    print(num1/num2)\n",
    "\n",
    "division()"
   ]
  },
  {
   "cell_type": "code",
   "execution_count": 14,
   "id": "6b0c6d70-ef74-4b3f-a1a2-4c52513346f4",
   "metadata": {},
   "outputs": [
    {
     "ename": "NameError",
     "evalue": "name 'num' is not defined",
     "output_type": "error",
     "traceback": [
      "\u001b[1;31m---------------------------------------------------------------------------\u001b[0m",
      "\u001b[1;31mNameError\u001b[0m                                 Traceback (most recent call last)",
      "Cell \u001b[1;32mIn[14], line 7\u001b[0m\n\u001b[0;32m      4\u001b[0m     \u001b[38;5;28;01melse\u001b[39;00m:\n\u001b[0;32m      5\u001b[0m         \u001b[38;5;28mprint\u001b[39m(\u001b[38;5;124m\"\u001b[39m\u001b[38;5;124moddd\u001b[39m\u001b[38;5;124m\"\u001b[39m)\n\u001b[1;32m----> 7\u001b[0m \u001b[43mfindevenorodd\u001b[49m\u001b[43m(\u001b[49m\u001b[43m)\u001b[49m\n",
      "Cell \u001b[1;32mIn[14], line 2\u001b[0m, in \u001b[0;36mfindevenorodd\u001b[1;34m()\u001b[0m\n\u001b[0;32m      1\u001b[0m \u001b[38;5;28;01mdef\u001b[39;00m\u001b[38;5;250m \u001b[39m\u001b[38;5;21mfindevenorodd\u001b[39m():\n\u001b[1;32m----> 2\u001b[0m     \u001b[38;5;28;01mif\u001b[39;00m(\u001b[43mnum\u001b[49m\u001b[38;5;241m%\u001b[39m\u001b[38;5;241m2\u001b[39m\u001b[38;5;241m==\u001b[39m\u001b[38;5;241m0\u001b[39m):\n\u001b[0;32m      3\u001b[0m         \u001b[38;5;28mprint\u001b[39m(\u001b[38;5;124m\"\u001b[39m\u001b[38;5;124meven\u001b[39m\u001b[38;5;124m\"\u001b[39m)\n\u001b[0;32m      4\u001b[0m     \u001b[38;5;28;01melse\u001b[39;00m:\n",
      "\u001b[1;31mNameError\u001b[0m: name 'num' is not defined"
     ]
    }
   ],
   "source": [
    "def findevenorodd():\n",
    "    if(num%2==0):\n",
    "        print(\"even\")\n",
    "    else:\n",
    "        print(\"oddd\")\n",
    "\n",
    "findevenorodd()"
   ]
  },
  {
   "cell_type": "code",
   "execution_count": 5,
   "id": "eaae6d17-3abc-4f33-8381-45a9c0cddacf",
   "metadata": {},
   "outputs": [
    {
     "name": "stdin",
     "output_type": "stream",
     "text": [
      "enter the value of a: 21\n"
     ]
    },
    {
     "name": "stdout",
     "output_type": "stream",
     "text": [
      "odd\n"
     ]
    }
   ],
   "source": [
    "def findoddoreven(a):\n",
    "    if(a%2==0):\n",
    "        print(\"even\")\n",
    "    else:\n",
    "        print(\"odd\")\n",
    "\n",
    "a=int(input(\"enter the value of a:\"))    \n",
    "findoddoreven(a)"
   ]
  },
  {
   "cell_type": "code",
   "execution_count": 20,
   "id": "9e6c23e2-54f3-40d7-8f45-703f5776a2b3",
   "metadata": {},
   "outputs": [
    {
     "name": "stdin",
     "output_type": "stream",
     "text": [
      "enter the mark: 72\n"
     ]
    },
    {
     "name": "stdout",
     "output_type": "stream",
     "text": [
      "even\n"
     ]
    }
   ],
   "source": [
    "def findpassorfail(a):\n",
    "    if(a%2==0):\n",
    "        print(\"even\")\n",
    "    else:\n",
    "        print(\"odd\")\n",
    "\n",
    "a=int(input(\"enter the mark:\"))\n",
    "findpassorfail(a)"
   ]
  },
  {
   "cell_type": "code",
   "execution_count": 21,
   "id": "a049ffc2-ed83-4aa6-85ce-9b8daf1e361c",
   "metadata": {},
   "outputs": [
    {
     "name": "stdin",
     "output_type": "stream",
     "text": [
      "enter the value: 2\n",
      "enter the value: 10\n"
     ]
    },
    {
     "name": "stdout",
     "output_type": "stream",
     "text": [
      "2\n",
      "3\n",
      "4\n",
      "5\n",
      "6\n",
      "7\n",
      "8\n",
      "9\n"
     ]
    }
   ],
   "source": [
    "def printrange(a,b):\n",
    "    for num in range(a,b):\n",
    "        print(num)\n",
    "    \n",
    "a=int(input(\"enter the value:\"))\n",
    "b=int(input(\"enter the value:\"))\n",
    "printrange(a,b)"
   ]
  },
  {
   "cell_type": "code",
   "execution_count": 23,
   "id": "17c24994-0e9e-4f07-92d4-04059a9431a6",
   "metadata": {},
   "outputs": [
    {
     "name": "stdin",
     "output_type": "stream",
     "text": [
      "enter the value: 21\n",
      "enter the value: 31\n"
     ]
    },
    {
     "name": "stdout",
     "output_type": "stream",
     "text": [
      "21\n",
      "22\n",
      "23\n",
      "24\n",
      "25\n",
      "26\n",
      "27\n",
      "28\n",
      "29\n",
      "30\n",
      "31\n"
     ]
    }
   ],
   "source": [
    "def printrange(r1,r2):\n",
    "    for i in range(a,b+1):\n",
    "        print(i)\n",
    "    \n",
    "a=int(input(\"enter the value:\"))\n",
    "b=int(input(\"enter the value:\"))\n",
    "printrange(a,b)\n",
    "# if i want to include 10 also"
   ]
  },
  {
   "cell_type": "markdown",
   "id": "8630b730-26ab-4488-b74e-4b2fa0881e46",
   "metadata": {},
   "source": [
    "return keywords in python"
   ]
  },
  {
   "cell_type": "code",
   "execution_count": 4,
   "id": "e654cda1-6b89-4800-ac32-80eb96f0056f",
   "metadata": {},
   "outputs": [
    {
     "name": "stdin",
     "output_type": "stream",
     "text": [
      "enter the user name : usha\n",
      "enter the password: 123\n"
     ]
    },
    {
     "name": "stdout",
     "output_type": "stream",
     "text": [
      "False\n"
     ]
    }
   ],
   "source": [
    "s_username=\"emc\"\n",
    "s_password=\"123\"\n",
    "\n",
    "uname=input(\"enter the user name :\")\n",
    "password=input(\"enter the password:\")\n",
    "\n",
    "def validate():\n",
    "    if(s_username==uname and s_password==password):\n",
    "        return True\n",
    "    else:\n",
    "        return False\n",
    "\n",
    "a=validate()\n",
    "print(a)"
   ]
  },
  {
   "cell_type": "code",
   "execution_count": null,
   "id": "56b1e2e9-3ad6-4598-b7af-9ad060fdfbe7",
   "metadata": {},
   "outputs": [],
   "source": [
    "# function validate at 0x000001EDC74EE020>( if function called wrong this error come)\n"
   ]
  },
  {
   "cell_type": "code",
   "execution_count": null,
   "id": "61a9eda6-3b13-4a40-b412-e24ba6902042",
   "metadata": {},
   "outputs": [],
   "source": []
  },
  {
   "cell_type": "code",
   "execution_count": 8,
   "id": "e113707d-e2e0-4e61-9894-25439162b922",
   "metadata": {},
   "outputs": [
    {
     "name": "stdin",
     "output_type": "stream",
     "text": [
      "enter the value of a: 10\n",
      "enter the value of b: 20\n",
      "enter the value of c: 30\n"
     ]
    },
    {
     "name": "stdout",
     "output_type": "stream",
     "text": [
      "30\n",
      "900\n"
     ]
    }
   ],
   "source": [
    "a=int(input(\"enter the value of a:\"))\n",
    "b=int(input(\"enter the value of b:\"))\n",
    "c=int(input(\"enter the value of c:\"))\n",
    "\n",
    "\n",
    "def add(n1,n2):\n",
    "    return n1+n2\n",
    "\n",
    "a=add(a,b)\n",
    "print(a)\n",
    "\n",
    "b=a*c\n",
    "print(b)\n",
    "\n",
    "    \n",
    "    "
   ]
  },
  {
   "cell_type": "markdown",
   "id": "5f190c51-dd0e-402b-bab3-be62881694ec",
   "metadata": {},
   "source": [
    "# functions problem"
   ]
  },
  {
   "cell_type": "code",
   "execution_count": null,
   "id": "612d65b7-375b-48a3-a1f6-1c3a03155f29",
   "metadata": {},
   "outputs": [],
   "source": [
    "# Create a class and function, and list out the items in the list"
   ]
  },
  {
   "cell_type": "code",
   "execution_count": 2,
   "id": "549125bb-756a-4b20-8ba5-ad2ff6834662",
   "metadata": {},
   "outputs": [
    {
     "name": "stdout",
     "output_type": "stream",
     "text": [
      "subfields in ai are: the answer is\n",
      "machine learning\n",
      "neural networks\n",
      "vision\n",
      "robotics\n",
      "speech processing\n",
      "natural language processing\n"
     ]
    }
   ],
   "source": [
    "def subfields(msg):\n",
    "    print(\"subfields in ai are:\",msg)\n",
    "    list=[\"machine learning\",\"neural networks\",\"vision\",\"robotics\",\"speech processing\",\"natural language processing\"]\n",
    "    for temp in list:\n",
    "        print(temp)\n",
    "subfields(\"the answer is\" )       "
   ]
  },
  {
   "cell_type": "code",
   "execution_count": null,
   "id": "55a318d6-3a59-46af-8b2b-f684611e8668",
   "metadata": {},
   "outputs": [],
   "source": [
    "# Create a function that checks whether the given number is Odd or Even"
   ]
  },
  {
   "cell_type": "code",
   "execution_count": 19,
   "id": "71cb16a0-f03b-4104-adb7-cad1c32fce9a",
   "metadata": {},
   "outputs": [
    {
     "name": "stdin",
     "output_type": "stream",
     "text": [
      "enter the number: 52452\n"
     ]
    },
    {
     "name": "stdout",
     "output_type": "stream",
     "text": [
      "this is even number\n"
     ]
    }
   ],
   "source": [
    "def oddeven(num):\n",
    "    if num%2==0:\n",
    "        print(\"this is even number\")\n",
    "    else:\n",
    "        print(\"this is odd number\")\n",
    "num=int(input(\"enter the number:\"))\n",
    "oddeven(num)\n",
    "        "
   ]
  },
  {
   "cell_type": "code",
   "execution_count": null,
   "id": "ca2ce0d2-8543-44fd-b22a-55e8e52c2445",
   "metadata": {},
   "outputs": [],
   "source": [
    "\"\"\" Create a function that tells elegibility of marriage for male and female according to thei\n",
    "r age limit like 21 for male and 18 for female\"\"\""
   ]
  },
  {
   "cell_type": "code",
   "execution_count": null,
   "id": "6bb15c49-4560-48c4-9d6f-bbef8f3df295",
   "metadata": {},
   "outputs": [],
   "source": [
    "age<--<24(NOT ELIGIBLE FOR MARRIAGE)\n",
    "age<-->25(ELIGIBLE FOR MARRIAGE)"
   ]
  },
  {
   "cell_type": "code",
   "execution_count": 3,
   "id": "3168a9bb-455f-4959-acd2-4781cb9ace22",
   "metadata": {},
   "outputs": [
    {
     "name": "stdin",
     "output_type": "stream",
     "text": [
      "enter the gender: male\n",
      "enter your age: 20\n"
     ]
    },
    {
     "name": "stdout",
     "output_type": "stream",
     "text": [
      "NOT ELIGIBLE FOR MARRIAGE\n"
     ]
    }
   ],
   "source": [
    "def eligibilityformarriage():\n",
    "    if age<=24:\n",
    "        print(\"NOT ELIGIBLE FOR MARRIAGE\")\n",
    "    else:\n",
    "        print(\"ELIGIBLE FOR MARRIAGE\")\n",
    "\n",
    "gender=input(\"enter the gender:\")\n",
    "age=int(input(\"enter your age:\"))\n",
    "\n",
    "eligibilityformarriage()\n",
    "\n"
   ]
  },
  {
   "cell_type": "code",
   "execution_count": null,
   "id": "f86e8c1f-fdf9-46ff-aa6e-69af1f64f29b",
   "metadata": {},
   "outputs": [],
   "source": [
    "# calculate the percentage of your 10th mark"
   ]
  },
  {
   "cell_type": "code",
   "execution_count": 28,
   "id": "0134e73f-7208-4364-a2fd-16b55e21134b",
   "metadata": {},
   "outputs": [
    {
     "name": "stdin",
     "output_type": "stream",
     "text": [
      "subject1= 98\n",
      "subject2= 87\n",
      "subject3= 95\n",
      "subject4= 95\n",
      "subject5= 93\n"
     ]
    },
    {
     "name": "stdout",
     "output_type": "stream",
     "text": [
      "total: 468\n",
      "percentage 93.6\n"
     ]
    }
   ],
   "source": [
    "def findpercent():\n",
    "    subject1=int(input(\"subject1=\"))\n",
    "    subject2=int(input(\"subject2=\"))\n",
    "    subject3=int(input(\"subject3=\"))\n",
    "    subject4=int(input(\"subject4=\"))\n",
    "    subject5=int(input(\"subject5=\"))\n",
    "    total=subject1+subject2+subject3+subject4+subject5\n",
    "    percent=total/5\n",
    "    print(\"total:\",total)\n",
    "    print(\"percentage\",percent)\n",
    "    \n",
    "    \n",
    "\n",
    "findpercent()    \n",
    "    \n",
    "    \n",
    "    \n",
    "        \n",
    "\n"
   ]
  },
  {
   "cell_type": "code",
   "execution_count": null,
   "id": "e0853fc3-7dae-43b0-b1bd-d09c3bb48920",
   "metadata": {},
   "outputs": [],
   "source": [
    "#print area and perimeter of triangle using class and functions"
   ]
  },
  {
   "cell_type": "code",
   "execution_count": 32,
   "id": "759cd5da-7cf6-479b-bfb8-139b3df3a154",
   "metadata": {},
   "outputs": [
    {
     "name": "stdin",
     "output_type": "stream",
     "text": [
      "Height:  32\n",
      "Breadth:  34\n"
     ]
    },
    {
     "name": "stdout",
     "output_type": "stream",
     "text": [
      "Area formula: (Height * Breadth) / 2\n",
      "Area of Triangle: 544.0\n"
     ]
    },
    {
     "name": "stdin",
     "output_type": "stream",
     "text": [
      "Height1:  2\n",
      "Height2:  4\n",
      "Breadth:  4\n"
     ]
    },
    {
     "name": "stdout",
     "output_type": "stream",
     "text": [
      "Perimeter formula: Height1 + Height2 + Breadth\n",
      "Perimeter of Triangle: 10\n"
     ]
    }
   ],
   "source": [
    "def triangle():\n",
    "    height = int(input(\"Height: \"))\n",
    "    breadth = int(input(\"Breadth: \"))\n",
    "    print(\"Area formula: (Height * Breadth) / 2\")\n",
    "    \n",
    "    area = (height * breadth) / 2\n",
    "    print(\"Area of Triangle:\", area)\n",
    "\n",
    "    height1 = int(input(\"Height1: \"))\n",
    "    height2 = int(input(\"Height2: \"))\n",
    "    breadth = int(input(\"Breadth: \"))\n",
    "    print(\"Perimeter formula: Height1 + Height2 + Breadth\")\n",
    "    total = height1 + height2 + breadth\n",
    "    print(\"Perimeter of Triangle:\", total)\n",
    "    \n",
    "    \n",
    "\n",
    "triangle()\n"
   ]
  },
  {
   "cell_type": "code",
   "execution_count": null,
   "id": "e92c3b6e-cc9d-4e67-9f3f-007567163fab",
   "metadata": {},
   "outputs": [],
   "source": []
  }
 ],
 "metadata": {
  "kernelspec": {
   "display_name": "Python 3 (ipykernel)",
   "language": "python",
   "name": "python3"
  },
  "language_info": {
   "codemirror_mode": {
    "name": "ipython",
    "version": 3
   },
   "file_extension": ".py",
   "mimetype": "text/x-python",
   "name": "python",
   "nbconvert_exporter": "python",
   "pygments_lexer": "ipython3",
   "version": "3.13.0"
  }
 },
 "nbformat": 4,
 "nbformat_minor": 5
}
