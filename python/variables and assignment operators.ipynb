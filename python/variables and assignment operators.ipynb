{
 "cells": [
  {
   "cell_type": "markdown",
   "id": "c82226a9-4aab-4347-93d6-74b08bcce814",
   "metadata": {},
   "source": [
    "#variables and assignment operators\n"
   ]
  },
  {
   "cell_type": "code",
   "execution_count": 1,
   "id": "23003787-0f8d-4642-b51f-a099d0a7447c",
   "metadata": {
    "scrolled": true
   },
   "outputs": [
    {
     "name": "stdout",
     "output_type": "stream",
     "text": [
      "40\n"
     ]
    }
   ],
   "source": [
    "num1=10"
   ]
  },
  {
   "cell_type": "code",
   "execution_count": 2,
   "id": "31db31a8-81d7-49a9-8bc0-4368ed72305e",
   "metadata": {},
   "outputs": [
    {
     "name": "stdout",
     "output_type": "stream",
     "text": [
      "40\n"
     ]
    }
   ],
   "source": [
    "num1=10\n",
    "num2=30\n",
    "add=num1+num2 \n",
    "print(add)\n"
   ]
  },
  {
   "cell_type": "code",
   "execution_count": 8,
   "id": "f5a47685-7022-467a-9feb-d2d4c5c48269",
   "metadata": {},
   "outputs": [
    {
     "name": "stdout",
     "output_type": "stream",
     "text": [
      "the addition of 2 numbers\n",
      "num1 : 10\n",
      "num2 : 20\n",
      "the answer: 30\n"
     ]
    }
   ],
   "source": [
    "# variables and assignment operatirs hands on\n",
    "print(\"the addition of 2 numbers\")\n",
    "num1=10\n",
    "print(\"num1 :\",num1)\n",
    "num2=20\n",
    "print(\"num2 :\",num2)\n",
    "add=num1+num2\n",
    "print(\"the answer:\",add)\n"
   ]
  },
  {
   "cell_type": "code",
   "execution_count": 3,
   "id": "0ecf824c-9154-4b6c-9351-13b1782787e6",
   "metadata": {},
   "outputs": [
    {
     "name": "stdin",
     "output_type": "stream",
     "text": [
      "enter the num1: 22.0\n",
      "enter the num2: 20.0\n"
     ]
    },
    {
     "name": "stdout",
     "output_type": "stream",
     "text": [
      "42.0\n",
      "2.0\n"
     ]
    }
   ],
   "source": [
    "## input\n",
    "num1=float(input(\"enter the num1:\"))\n",
    "num2=float(input(\"enter the num2:\"))\n",
    "add =num1+num2\n",
    "sub=num1-num2\n",
    "print(add)\n",
    "print(sub)"
   ]
  },
  {
   "cell_type": "code",
   "execution_count": 5,
   "id": "6e9bbf9c-bbde-48e8-ab20-2dab0e0e7d0b",
   "metadata": {},
   "outputs": [
    {
     "name": "stdin",
     "output_type": "stream",
     "text": [
      "my name is : emc\n",
      "my age is : 1\n"
     ]
    }
   ],
   "source": [
    "name=str(input(\"my name is :\"))\n",
    "age=int(input(\"my age is :\"))"
   ]
  },
  {
   "cell_type": "code",
   "execution_count": 7,
   "id": "b74ef6fd-ff0f-4b19-9f8c-e45dc10bfa4e",
   "metadata": {},
   "outputs": [
    {
     "name": "stdin",
     "output_type": "stream",
     "text": [
      "my name is : emc\n",
      "my age is : 1\n",
      "my address is: chennnai\n"
     ]
    }
   ],
   "source": [
    "name=str(input(\"my name is :\"))\n",
    "age=int(input(\"my age is :\"))\n",
    "address=str(input(\"my address is:\"))\n"
   ]
  },
  {
   "cell_type": "code",
   "execution_count": 13,
   "id": "1c653ac2-bf24-4377-85a9-120d5ffc6c38",
   "metadata": {},
   "outputs": [
    {
     "name": "stdin",
     "output_type": "stream",
     "text": [
      "enter the value a : 2\n",
      "enter the value b : 3\n",
      "enter the value c:  4\n"
     ]
    }
   ],
   "source": [
    "a=int(input(\"enter the value a :\"))\n",
    "b=int(input(\"enter the value b :\"))\n",
    "c=int(input(\"enter the value c: \"))"
   ]
  },
  {
   "cell_type": "code",
   "execution_count": 11,
   "id": "45115a58-311e-4f38-86e2-3feca653222d",
   "metadata": {},
   "outputs": [
    {
     "name": "stdout",
     "output_type": "stream",
     "text": [
      "the multiply of 3 variables\n",
      "a : 2\n",
      "b : 3\n",
      "c : 4\n",
      "the multiply of three variables: 24\n",
      "the addition  of 3 variables\n",
      "a : 2\n",
      "b : 3\n",
      "c : 4\n",
      "the addition of three variables: 9\n"
     ]
    }
   ],
   "source": [
    "print(\"the multiply of 3 variables\")\n",
    "a=2\n",
    "print(\"a :\",a)\n",
    "b=3\n",
    "print(\"b :\",b)\n",
    "c=4\n",
    "print(\"c :\",c)\n",
    "print(\"the multiply of three variables:\",a*b*c)\n",
    "\n",
    "print(\"the addition  of 3 variables\")\n",
    "a=2\n",
    "print(\"a :\",a)\n",
    "b=3\n",
    "print(\"b :\",b)\n",
    "c=4\n",
    "print(\"c :\",c)\n",
    "print(\"the addition of three variables:\",a+b+c)\n",
    "\n",
    "\n"
   ]
  },
  {
   "cell_type": "code",
   "execution_count": 12,
   "id": "39a6d996-fa86-44c1-9161-ad7ab5debf3c",
   "metadata": {},
   "outputs": [
    {
     "name": "stdout",
     "output_type": "stream",
     "text": [
      " divide the variable :\n",
      "divide the variable: 2.6666666666666665\n"
     ]
    }
   ],
   "source": [
    "print( \" divide the variable :\")\n",
    "divide=24/9\n",
    "print(\"divide the variable:\",divide)"
   ]
  },
  {
   "cell_type": "code",
   "execution_count": 17,
   "id": "664df2e4-a3dd-486a-aa10-fac681348e45",
   "metadata": {},
   "outputs": [
    {
     "name": "stdin",
     "output_type": "stream",
     "text": [
      " aravind\n",
      " 78\n",
      " computer\n"
     ]
    },
    {
     "name": "stdout",
     "output_type": "stream",
     "text": [
      "my name is : aravind\n",
      "my score is : 7.8 /10\n",
      "my ddepartment is : computer\n"
     ]
    }
   ],
   "source": [
    "name=input()\n",
    "score=int(input())\n",
    "department=input()\n",
    "print(\"my name is :\",name)\n",
    "print(\"my score is :\",score/10,\"/10\")\n",
    "print(\"my ddepartment is :\",department)"
   ]
  },
  {
   "cell_type": "code",
   "execution_count": null,
   "id": "f1bd6c96-c598-4d64-a298-b8eb25e33e9d",
   "metadata": {},
   "outputs": [],
   "source": []
  }
 ],
 "metadata": {
  "kernelspec": {
   "display_name": "Python 3 (ipykernel)",
   "language": "python",
   "name": "python3"
  },
  "language_info": {
   "codemirror_mode": {
    "name": "ipython",
    "version": 3
   },
   "file_extension": ".py",
   "mimetype": "text/x-python",
   "name": "python",
   "nbconvert_exporter": "python",
   "pygments_lexer": "ipython3",
   "version": "3.13.0"
  }
 },
 "nbformat": 4,
 "nbformat_minor": 5
}
